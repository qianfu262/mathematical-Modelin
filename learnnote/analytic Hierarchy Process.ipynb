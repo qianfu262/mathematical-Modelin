{
 "cells": [
  {
   "cell_type": "markdown",
   "metadata": {},
   "source": [
    "# 层次分析法\n",
    "层次分析法主要用于解决**评价类问题**.\n",
    "确定三个问题:\n",
    "1. 评价的目标是什么\n",
    "2. 评价的标准是什么\n",
    "3. 可选的方案有哪些\n",
    "   \n",
    "## 基本步骤\n",
    "* 建立层次结构模型\n",
    "* 构造判断矩阵\n",
    "* 一致性检验\n",
    "* 求权重后评价\n",
    "\n",
    "## 判断矩阵\n",
    "判断矩阵是对指标的重要性进行两两比较,得到一个 $n*n$ 的矩阵,矩阵元素 $a_{ij}$ 的意义是,第i个指标相对于第j个指标的重要程度.\n",
    "![image copy.png](<image copy.png>)\n",
    "  \n",
    "## 一致矩阵\n",
    "一致矩阵可以从一个方面对方案进行打分,最终通过加权得到最终评分.\n",
    "一致矩阵需要满足 $a_{ij}*a_{jk}=a_{ik}$\n",
    "对于一致矩阵,具有两个性质:\n",
    "* A的秩为1,A的唯一非零特征根为n\n",
    "* A的任一列向量都是对应特征根为n的特征向量\n",
    "## 一致性检验\n",
    "一致性检验用于检验矩阵是否满足一致性.\n",
    "**计算一致性指标**: $CI=\\frac{\\lambda_{max}-n}{n-1},(其中 \\lambda 为矩阵的最大特征根)$ \n",
    "$$ CI= \\begin{cases} 0,具有完全一致性 \\\\ 接近0,满意的一致性 \\\\ 越大 ,一致性越差 \\end{cases} $$\n",
    "\n",
    "而为了衡量CI的大小,引入随机一致性指标RI,构造500个判断矩阵 $A_1,A_2,\\dots,A_{500}$ 分别计算 $\\lambda _{max}$ ,得到五百个一致性指标,定义一致性指标RI= $\\frac{\\sum_{i=1}^{500}CI_i}{500}$\n",
    "\n",
    "---\n",
    "定义一致性比例 $CR=\\frac{CI}{RI}$ 如果 $CR<0.1$ 则认为一致性可以接受,否则需要修正\n",
    "如果大于0.1:强行往一致性上靠,调整成倍数关系即可\n",
    "\n",
    "## 算术平均法求权重论文表述\n",
    "对于一个判断矩阵A,有每一列的权重公式    $w_i=\\frac1n \\sum_{j=1}^{n} \\frac{a_{ij}}{\\sum_{k=1}^{n} a_{kj}} \\quad (i=1,2,\\ldots,n)$ ,然后加起来求算术平均值就可以得到权重\n",
    "## 几何平均法\n",
    "* 第一步将矩阵的元素按照行相乘得到一个新的向量\n",
    "* 第二步将新的向量的每一个分量开n次方\n",
    "* 第三步对该列向量进行归一化即可得到权重向量\n",
    "最终的数学表达式是:\n",
    "$$w_{i} = \\frac{\\left(\\prod_{j=1}^{n} a_{ij}\\right)^{\\frac{1}{n}}}{\\sum_{k=1}^{n}\\left(\\prod_{j=1}^{n} a_{kj}\\right)^{\\frac{1}{n}}}, \\quad (i=1,2,\\ldots, n)$$ \n",
    "## 特征值法求权重\n",
    "计算矩阵A的特征值与特征向量,然后进行一致性检验,通过一致性检验后,取特征向量中最大特征值对应的特征向量再进行归一化,即为权重向量.\n",
    " \n",
    "\n",
    "\n",
    "## 论文表述\n",
    "\n",
    "1. 先列出**层级结构图**(目标层,决策层,方案层) (图片要出现在论文当中)\n",
    "  ![alt text](image.png)\n",
    "2. 构造出**判断矩阵**,判断矩阵需要满足一致性\n",
    "3. 依照评价指标,对方案进行打分\n",
    "4. 计算权重,并计算得分\n",
    "5. 比较得分,得出结果"
   ]
  },
  {
   "cell_type": "code",
   "execution_count": 13,
   "metadata": {},
   "outputs": [
    {
     "data": {
      "text/plain": [
       "array([[1.        , 2.        , 3.        , 5.        ],\n",
       "       [0.5       , 1.        , 0.5       , 2.        ],\n",
       "       [0.33333333, 2.        , 1.        , 2.        ],\n",
       "       [0.2       , 0.5       , 0.5       , 1.        ]])"
      ]
     },
     "execution_count": 13,
     "metadata": {},
     "output_type": "execute_result"
    }
   ],
   "source": [
    "import numpy as np\n",
    "import pandas as pd\n",
    "#np.array是一个函数用于创建数组,将输入的对象(如列表,元组,其他数组等)转换为numpy数组\n",
    "A=np.array([[1,2,3,5],[1/2,1,1/2,2],[1/3,2,1,2],[1/5,1/2,1/2,1]])\n",
    "A\n"
   ]
  },
  {
   "cell_type": "code",
   "execution_count": 14,
   "metadata": {},
   "outputs": [
    {
     "data": {
      "text/plain": [
       "4"
      ]
     },
     "execution_count": 14,
     "metadata": {},
     "output_type": "execute_result"
    }
   ],
   "source": [
    "n=A.shape[0] #获取A的行,1则是获取A的列,shape是获取形状信息\n",
    "n"
   ]
  },
  {
   "cell_type": "code",
   "execution_count": 15,
   "metadata": {},
   "outputs": [
    {
     "name": "stdout",
     "output_type": "stream",
     "text": [
      "[ 4.11283004+0.j         -0.06510522+0.67976113j -0.06510522-0.67976113j\n",
      "  0.01738039+0.j        ]\n",
      "###\n",
      "[[ 0.84869741+0.j          0.81061718+0.j          0.81061718-0.j\n",
      "  -0.93329324+0.j        ]\n",
      " [ 0.30763892+0.j         -0.18477808-0.292718j   -0.18477808+0.292718j\n",
      "  -0.07585913+0.j        ]\n",
      " [ 0.39621458+0.j         -0.26858914+0.38344901j -0.26858914-0.38344901j\n",
      "  -0.16238727+0.j        ]\n",
      " [ 0.16758584+0.j          0.0623862 -0.00277699j  0.0623862 +0.00277699j\n",
      "   0.31119046+0.j        ]]\n"
     ]
    }
   ],
   "source": [
    "eig_val,eig_vec = np.linalg.eig(A) #计算特征值和特征向量\n",
    "print(eig_val)\n",
    "print(\"###\")\n",
    "print(eig_vec)"
   ]
  },
  {
   "cell_type": "code",
   "execution_count": 16,
   "metadata": {},
   "outputs": [
    {
     "name": "stdout",
     "output_type": "stream",
     "text": [
      "一致性指标CI= (0.028207509548036747+0j)\n",
      "一致性指标CR= (0.03169383095285028+0j)\n",
      "该矩阵的一致性可以接受\n"
     ]
    }
   ],
   "source": [
    "max_eig=max(eig_val) #计算最大特征值\n",
    "CI=(max_eig-n)/n #计算CI\n",
    "RI=[0,0.0001,0.52,0.89,1.12,1.26,1.36,1.41,1.46,1.49,1.52,1.54,1.56,1.58,1.59] #RI值\n",
    "CR=CI/RI[n-1] #计算CR\n",
    "print(\"一致性指标CI=\",CI)\n",
    "print(\"一致性指标CR=\",CR)\n",
    "if CR<0.10:\n",
    "    print(\"该矩阵的一致性可以接受\")\n",
    "else:\n",
    "    print(\"该矩阵的一致性不可接受\")"
   ]
  },
  {
   "cell_type": "markdown",
   "metadata": {},
   "source": [
    "# 算术平均法"
   ]
  },
  {
   "cell_type": "code",
   "execution_count": 17,
   "metadata": {},
   "outputs": [
    {
     "name": "stdout",
     "output_type": "stream",
     "text": [
      "[1.95543964 0.72771982 0.92757079 0.38926975]\n",
      "[0.48885991 0.18192996 0.2318927  0.09731744]\n"
     ]
    }
   ],
   "source": [
    "A=np.array([[1,2,3,5],[1/2,1,1/2,2],[1/3,2,1,2],[1/5,1/2,1/2,1]])\n",
    "#axis属于参数,计算数组某一个维度上的元素总和.例如axis=0,计算每一列元素的总和;axis=1,计算每一行元素的总和\n",
    "ASum=np.sum(A,axis=0)\n",
    "\n",
    "n=A.shape[0]\n",
    "\n",
    "#归一化,二维数组除以一维数组,得到二维数组\n",
    "stand_A=A/ASum\n",
    "\n",
    "# 各列相加到同一行\n",
    "Asumr=np.sum(stand_A,axis=1)\n",
    "print(Asumr)\n",
    "\n",
    "#计算权重\n",
    "w=Asumr/n\n",
    "print(w)"
   ]
  },
  {
   "cell_type": "markdown",
   "metadata": {},
   "source": [
    "# 几何平均法求权重"
   ]
  },
  {
   "cell_type": "code",
   "execution_count": 18,
   "metadata": {},
   "outputs": [
    {
     "name": "stdout",
     "output_type": "stream",
     "text": [
      "[0.49492567 0.17782883 0.22724501 0.1000005 ]\n"
     ]
    }
   ],
   "source": [
    "A=np.array([[1,2,3,5],[1/2,1,1/2,2],[1/3,2,1,2],[1/5,1/2,1/2,1]])\n",
    "\n",
    "n=A.shape[0]\n",
    "\n",
    "prod_A=np.prod(A,axis=1)\n",
    "\n",
    "prod_n_A=np.power(prod_A,1/n) #求n次方\n",
    "\n",
    "#归一化\n",
    "\n",
    "norm_prod_n_A=prod_n_A/np.sum(prod_n_A)\n",
    "\n",
    "print(norm_prod_n_A)"
   ]
  },
  {
   "cell_type": "markdown",
   "metadata": {},
   "source": [
    "# 特征值法求权重"
   ]
  },
  {
   "cell_type": "code",
   "execution_count": 19,
   "metadata": {},
   "outputs": [
    {
     "name": "stdout",
     "output_type": "stream",
     "text": [
      "[0.4933895 +0.j 0.17884562+0.j 0.230339  +0.j 0.09742588+0.j]\n"
     ]
    }
   ],
   "source": [
    "A=np.array([[1,2,3,5],[1/2,1,1/2,2],[1/3,2,1,2],[1/5,1/2,1/2,1]])\n",
    "n=A.shape[0]\n",
    "# 求特征值与特征向量\n",
    "eig_val,eig_vec = np.linalg.eig(A)\n",
    "# 求最大特征值的索引\n",
    "index=np.argmax(eig_val)\n",
    "# 求最大特征值\n",
    "max_vec=eig_vec[:,index]\n",
    "# 特征向量归一化\n",
    "weights=max_vec/np.sum(max_vec)\n",
    "\n",
    "print(weights)"
   ]
  }
 ],
 "metadata": {
  "kernelspec": {
   "display_name": "Python 3",
   "language": "python",
   "name": "python3"
  },
  "language_info": {
   "codemirror_mode": {
    "name": "ipython",
    "version": 3
   },
   "file_extension": ".py",
   "mimetype": "text/x-python",
   "name": "python",
   "nbconvert_exporter": "python",
   "pygments_lexer": "ipython3",
   "version": "3.13.0"
  }
 },
 "nbformat": 4,
 "nbformat_minor": 2
}
