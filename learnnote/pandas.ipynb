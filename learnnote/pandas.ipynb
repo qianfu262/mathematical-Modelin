{
 "cells": [
  {
   "cell_type": "markdown",
   "metadata": {},
   "source": [
    "# pandas的使用"
   ]
  },
  {
   "cell_type": "code",
   "execution_count": 2,
   "metadata": {},
   "outputs": [
    {
     "name": "stdout",
     "output_type": "stream",
     "text": [
      "    1  1.1  1.2  1.3\n",
      "0   5    6    7    8\n",
      "1   9   10   11   12\n",
      "2  13   14   15   16\n",
      "3  17   18   19   20\n",
      "4  21   22   23   24\n",
      "<class 'pandas.core.frame.DataFrame'>\n",
      "RangeIndex: 5 entries, 0 to 4\n",
      "Data columns (total 4 columns):\n",
      " #   Column  Non-Null Count  Dtype\n",
      "---  ------  --------------  -----\n",
      " 0   1       5 non-null      int64\n",
      " 1   1.1     5 non-null      int64\n",
      " 2   1.2     5 non-null      int64\n",
      " 3   1.3     5 non-null      int64\n",
      "dtypes: int64(4)\n",
      "memory usage: 292.0 bytes\n",
      "None\n",
      "   样本号  萼片长  类型_num\n",
      "0    1  8.0       0\n",
      "1    2  2.1       0\n",
      "2    3  4.5       1\n"
     ]
    },
    {
     "name": "stderr",
     "output_type": "stream",
     "text": [
      "<>:4: SyntaxWarning: invalid escape sequence '\\p'\n",
      "<>:4: SyntaxWarning: invalid escape sequence '\\p'\n",
      "C:\\Users\\ABCD\\AppData\\Local\\Temp\\ipykernel_35652\\2439814798.py:4: SyntaxWarning: invalid escape sequence '\\p'\n",
      "  file_path = \"C:\\python vscode\\mathematicalModeling\\\\test.xlsx\"\n"
     ]
    }
   ],
   "source": [
    "# DataFrame函数输出三线表\n",
    "import pandas as pd  # type: ignore\n",
    "import numpy as np # type: ignore\n",
    "file_path = \"C:\\python vscode\\mathematicalModeling\\\\test.xlsx\"\n",
    "df=pd.read_excel(file_path, sheet_name=\"Sheet1\",engine=\"openpyxl\")\n",
    "print(df.head())#输出前五行\n",
    "print(df.info())#输出数据集的统计信息\n",
    "arr=np.array([1,3,4])\n",
    "df={'样本号':[1,2,3],'萼片长':[8,2.1,4.5],'类型_num':[0,0,1]}\n",
    "datadf=pd.DataFrame(df)\n",
    "print(datadf)#输出一个类似于excel的表格\n",
    "#print(df.info())#输出数据集的统计信息"
   ]
  }
 ],
 "metadata": {
  "kernelspec": {
   "display_name": "Python 3",
   "language": "python",
   "name": "python3"
  },
  "language_info": {
   "codemirror_mode": {
    "name": "ipython",
    "version": 3
   },
   "file_extension": ".py",
   "mimetype": "text/x-python",
   "name": "python",
   "nbconvert_exporter": "python",
   "pygments_lexer": "ipython3",
   "version": "3.13.0"
  }
 },
 "nbformat": 4,
 "nbformat_minor": 2
}
