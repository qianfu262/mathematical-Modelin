{
 "cells": [
  {
   "cell_type": "markdown",
   "metadata": {},
   "source": [
    "# numpy的使用"
   ]
  },
  {
   "cell_type": "code",
   "execution_count": 1,
   "metadata": {},
   "outputs": [
    {
     "name": "stdout",
     "output_type": "stream",
     "text": [
      "[5 7 9]\n",
      "[ 4 10 18]\n"
     ]
    }
   ],
   "source": [
    "# 运算\n",
    "import numpy as np # type: ignore #\n",
    "print(np.array([1,2,3])+np.array([4,5,6]))#对应向量的相加\n",
    "print(np.array([1,2,3])*np.array([4,5,6]))#对应向量的点乘"
   ]
  },
  {
   "cell_type": "code",
   "execution_count": 7,
   "metadata": {},
   "outputs": [
    {
     "name": "stdout",
     "output_type": "stream",
     "text": [
      "(4, 3)\n",
      "[[ 1  2  3  4  5  6]\n",
      " [ 7  8  9 10 11 12]] (2, 6)\n"
     ]
    }
   ],
   "source": [
    "# 随意改变数组的行列,前提是行列数乘积不变\n",
    "arr=np.array([[1,2,3],[4,5,6],[7,8,9],[10,11,12]])\n",
    "print(arr.shape)#(4,3) 4行3列\n",
    "new_arr=np.reshape(arr,(2,6))#将arr变成2行6列的数组 注意：2*6=4*3,一定要乘积相等\n",
    "print(new_arr,new_arr.shape)#(2,6)"
   ]
  },
  {
   "cell_type": "code",
   "execution_count": 8,
   "metadata": {},
   "outputs": [
    {
     "name": "stdout",
     "output_type": "stream",
     "text": [
      "32\n",
      "平均值 6.5\n",
      "方差 11.916666666666666\n",
      "标准差 3.452052529534663\n",
      "最大值 12\n",
      "最小值 1\n",
      "中位数 6.5\n",
      "求和 78\n",
      "排序 [[ 1  2  3]\n",
      " [ 4  5  6]\n",
      " [ 7  8  9]\n",
      " [10 11 12]]\n"
     ]
    }
   ],
   "source": [
    "# 各种处理数据\n",
    "arr1=np.array([1,2,3])\n",
    "arr2=np.array([4,5,6]) \n",
    "print(np.dot(arr1,arr2))#1*4+2*5+3*6=32 点乘\n",
    "print(\"平均值\",np.mean(arr))#平均值\n",
    "print(\"方差\",np.var(arr))#方差\n",
    "print(\"标准差\",np.std(arr))#标准差\n",
    "print(\"最大值\",np.max(arr))#最大值\n",
    "print(\"最小值\",np.min(arr))#最小值\n",
    "print(\"中位数\",np.median(arr))#中位数\\\n",
    "print(\"求和\",np.sum(arr))#求和\n",
    "print(\"排序\",np.sort(arr))#排序\n"
   ]
  },
  {
   "cell_type": "code",
   "execution_count": 9,
   "metadata": {},
   "outputs": [
    {
     "name": "stdout",
     "output_type": "stream",
     "text": [
      "保存与导入\n",
      "[[ 1  2  3]\n",
      " [ 4  5  6]\n",
      " [ 7  8  9]\n",
      " [10 11 12]]\n",
      "[[ 1  2  3]\n",
      " [ 4  5  6]\n",
      " [ 7  8  9]\n",
      " [10 11 12]]\n"
     ]
    }
   ],
   "source": [
    "# 处理数据的保存与导入 生成npy文件\n",
    "print(\"保存与导入\")\n",
    "print(arr)\n",
    "np.save(\"arr.npy\",arr)#保存\n",
    "arr=np.load(\"arr.npy\")\n",
    "print(arr)#导入"
   ]
  }
 ],
 "metadata": {
  "kernelspec": {
   "display_name": "Python 3",
   "language": "python",
   "name": "python3"
  },
  "language_info": {
   "codemirror_mode": {
    "name": "ipython",
    "version": 3
   },
   "file_extension": ".py",
   "mimetype": "text/x-python",
   "name": "python",
   "nbconvert_exporter": "python",
   "pygments_lexer": "ipython3",
   "version": "3.13.0"
  }
 },
 "nbformat": 4,
 "nbformat_minor": 2
}
