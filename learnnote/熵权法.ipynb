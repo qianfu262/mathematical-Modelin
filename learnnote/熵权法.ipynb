{
 "cells": [
  {
   "cell_type": "markdown",
   "metadata": {},
   "source": [
    "# 熵权法计算权重\n",
    "\n",
    "## 信息熵\n",
    "\n",
    "对于某一项指标,可以通过熵值判断某个指标的离散程度,信息熵值越小,指标的离散程度就越大,该指标对综合评价的影响(权重)也就最大.\n",
    "\n",
    "## 基本步骤\n",
    "* 标准化\n",
    "  记标准化的矩阵为Z,则 $Z_{ij}=\\frac{X_{ij}}{\\sqrt{\\sum_{i=1}^{n}X_{ij}^2}}$,如果 $x_{ij}$ 存在负数,则标准矩阵 $\\tilde{Z} = \\frac{x - \\min\\{x_{1j}, x_{2j}, \\ldots, x_{nj}\\}}{\\max\\{x_{1j}, x_{2j}, \\ldots, x_{nj}\\} - \\min\\{x_{1j}, x_{2j}, \\ldots, x_{nj}\\}}$\n",
    "* 计算概率矩阵P\n",
    "  计算第j项指标的第i个样本所占的比 $p_{ij}=\\frac{\\widetilde{z_{ij}}}{\\sum_{i=1}^{n} z_{ij}}$\n",
    "* 计算熵权 $( e_j )$ :\n",
    "$e_j = -\\frac{1}{\\ln n} \\sum_{i=1}^{n} p_{ij} \\ln(p_{ij}) \\quad (j = 1,2,\\ldots,m), d_j = 1 - e_j , W_j = \\frac{d_j}{\\sum_{j=1}^{m} d_j} $\n",
    "\n",
    "## 计算熵权\n",
    "$由以上公式我们可以知道,当p_{1j}=p_{2j}=\\dots=p_{nj}=\\frac 1n,e_j=1,此时信息熵最大,但是信息效用值最低,定义信息效用值为 d_j=1-e_j,最后将信息效用值进行归一化,得到熵权 W_j=\\frac{d_j}{\\sum_{j=1}^{m} d_j}$\n",
    "\n"
   ]
  },
  {
   "cell_type": "markdown",
   "metadata": {},
   "source": [
    "# python实现"
   ]
  },
  {
   "cell_type": "code",
   "execution_count": 4,
   "metadata": {},
   "outputs": [
    {
     "name": "stdout",
     "output_type": "stream",
     "text": [
      "标准化矩阵Z= [[0.66896473 0.         0.         0.        ]\n",
      " [0.59463532 0.3939193  0.97618706 0.4472136 ]\n",
      " [0.44597649 0.91914503 0.21693046 0.89442719]]\n",
      "熵权W= [0.00856537 0.30716152 0.39326471 0.2910084 ]\n"
     ]
    }
   ],
   "source": [
    "import numpy as np # type: ignore\n",
    "\n",
    "\n",
    "# 定义一个指标矩阵X\n",
    "X=np.array([[9,0,0,0],[8,3,0.9,0.5],[6,7,0.2,1]])\n",
    "\n",
    "#正向化之后矩阵进行标准化\n",
    "Z=X/np.sqrt(np.sum(X**2,axis=0))\n",
    "print(\"标准化矩阵Z=\",Z)\n",
    "\n",
    "n,m=Z.shape\n",
    "D=np.zeros(m)\n",
    "\n",
    "def mylog(p):\n",
    "    n=len(p)\n",
    "    lnp=np.zeros(n)\n",
    "    for i in range(n):\n",
    "        if p[i]==0:\n",
    "            lnp[i]=0\n",
    "        else:\n",
    "            lnp[i]=np.log(p[i])\n",
    "    return lnp\n",
    "\n",
    "# 计算信息效用值\n",
    "for i in range(m):\n",
    "    x=Z[:,i]\n",
    "    p=x/np.sum(x)\n",
    "    #使用自定义的mylog函数计算对数,避免出现log(0)的情况\n",
    "    e=-np.sum(p*mylog(p))/np.log(n)\n",
    "    D[i]=1-e #计算信息效用值\n",
    "\n",
    "# 根据信息效用值计算指标的权重\n",
    "W=D/np.sum(D)\n",
    "\n",
    "print(\"熵权W=\",W)\n"
   ]
  }
 ],
 "metadata": {
  "kernelspec": {
   "display_name": "Python 3",
   "language": "python",
   "name": "python3"
  },
  "language_info": {
   "codemirror_mode": {
    "name": "ipython",
    "version": 3
   },
   "file_extension": ".py",
   "mimetype": "text/x-python",
   "name": "python",
   "nbconvert_exporter": "python",
   "pygments_lexer": "ipython3",
   "version": "3.13.0"
  }
 },
 "nbformat": 4,
 "nbformat_minor": 2
}
