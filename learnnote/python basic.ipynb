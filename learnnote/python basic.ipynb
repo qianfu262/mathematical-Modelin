{
 "cells": [
  {
   "cell_type": "markdown",
   "metadata": {},
   "source": [
    "# python 变量\n",
    "* 整型变量 counter=100\n",
    "* 浮点型变量 miles=1000.0\n",
    "* 布尔型变量 var=True\n",
    "* 字符串变量 s=\"hello world\"\n",
    "  变量无需提前声明,只需要赋值即可"
   ]
  },
  {
   "cell_type": "markdown",
   "metadata": {},
   "source": [
    "# python 运算符\n",
    "* 次方 a**b a的b次方\n",
    "* 取余 a%b a除以b的余数\n",
    "* a/b a除以b的商\n",
    "* a//b a除以b的整数商\n",
    "* in 运算符 返回True或False,用于判断某个值是否在某个序列中"
   ]
  },
  {
   "cell_type": "markdown",
   "metadata": {},
   "source": [
    "# python 各种数据类型\n",
    "## 列表\n",
    "* list 可以存储一切类型的数据可以修改值\n",
    "* print(list[1:3]) 遍历list第二个到第三个元素,左闭右开\n",
    "  \n",
    "  ---\n",
    "## 元组\n",
    "与列表类似,但不可以修改值\n",
    "\n",
    "## 字典\n",
    "字典相当于STL中的map,可以存储键值对,键值对之间用冒号隔开,键值对之间用逗号隔开,整个字典用大括号括起来\n",
    "```python\n",
    "dict1={\"第一个元素\":1,\"第二个元素\":'2',\"第三个元素\":True,\"第四个元素\":\"hello world\"}\n",
    "```\n",
    "\n",
    "## 集合\n",
    "就是c++中的set,可以存储任何类型的数据,会自动去除重复的元素,且不能修改值\n"
   ]
  },
  {
   "cell_type": "markdown",
   "metadata": {},
   "source": [
    "# 运算符加复合数据类型"
   ]
  },
  {
   "cell_type": "code",
   "execution_count": 1,
   "metadata": {},
   "outputs": [
    {
     "name": "stdout",
     "output_type": "stream",
     "text": [
      "用加号输出两个列表\n",
      "[1, 3, 4, '2', 'alice', 2, 3, 4, 'hello world']\n",
      "用in运算符判断某个值是否在某个序列中\n",
      "True\n",
      "False\n",
      "True\n"
     ]
    }
   ],
   "source": [
    "a=[1,3,4,\"2\",\"alice\"]\n",
    "b=[2,3,4,\"hello world\"]\n",
    "print(\"用加号输出两个列表\")\n",
    "print(a+b)\n",
    "\n",
    "## 成员运算符\n",
    "print(\"用in运算符判断某个值是否在某个序列中\")\n",
    "a=[1,2,3,4,\"2\",\"alice\",[4,\"2\"]]\n",
    "b=1\n",
    "print(b in a)\n",
    "c=\"li\"#只判断一整个字符串\n",
    "print(c in a)\n",
    "##d=[4,\"2\"]#判断一个列表是否在另一个列表中\n",
    "d=[4,\"2\"]\n",
    "print(d in a)#输出True,判断是否在列表中\n",
    "## 可以在a中加入一个子列表，判断子列表是否在a中"
   ]
  },
  {
   "cell_type": "markdown",
   "metadata": {},
   "source": [
    "# 复合数据类型的强制类型转换"
   ]
  },
  {
   "cell_type": "code",
   "execution_count": 3,
   "metadata": {},
   "outputs": [
    {
     "name": "stdout",
     "output_type": "stream",
     "text": [
      "['hello', 1, 2, 3, 5, 5, 5, 'hello']\n",
      "[1, 2, 3, 5, 'hello']\n"
     ]
    }
   ],
   "source": [
    "## 示例 去除列表中相同元素\n",
    "\n",
    "list_example=[\"hello\",1,2,3,5,5,5,\"hello\"]\n",
    "print(list_example)\n",
    "list_example=list(set(list_example))# 强转成集合，自动去除重复元素，再转回列表\n",
    "print(list_example)"
   ]
  },
  {
   "cell_type": "markdown",
   "metadata": {},
   "source": [
    "# 循环与条件语句\n",
    "if==if\n",
    "elif==else if\n",
    "else==else\n",
    "---\n",
    "while循环\n",
    "\n",
    "```python\n",
    "num=0\n",
    "while num<10:\n",
    "    print(num)\n",
    "    num+=1\n",
    "```\n",
    "for循环\n",
    "\n",
    "```python\n",
    "for i in range(10):##从0到9\n",
    "a=\"abcdeefg\"\n",
    "for i in a:##遍历字符串\n",
    "for i in [\"red\",\"blue\",\"green\"]:##遍历列表\n",
    "```"
   ]
  },
  {
   "cell_type": "code",
   "execution_count": 21,
   "metadata": {},
   "outputs": [],
   "source": [
    "#实例:猜数\n",
    "\n",
    "target=100 \n",
    "predict=100\n",
    "cnt=0\n",
    "while predict!=target:\n",
    "    #predict=int(input(\"请输入一个整数:\"))#input默认输入的是字符串,需要转换为整数\n",
    "    if predict>target:\n",
    "        print(\"傻逼,猜大了\")\n",
    "    elif predict<target:\n",
    "        print(\"傻逼,猜小了\")\n",
    "    else:\n",
    "        print(\"猜对了\")\n",
    "        break\n",
    "    cnt+=1\n",
    "    if cnt>=8:\n",
    "        print(\"傻逼,二分不会吗\")\n"
   ]
  },
  {
   "cell_type": "markdown",
   "metadata": {},
   "source": [
    "# 函数\n",
    "```python\n",
    "def max(a,b):\n",
    "    if a>b:\n",
    "        return a\n",
    "    else:\n",
    "        return b\n",
    "```"
   ]
  },
  {
   "cell_type": "markdown",
   "metadata": {},
   "source": [
    "# 读写文件\n",
    "\n",
    "```python\n",
    "file.close()#关闭文件\n",
    "file.read([size]) #读取文件内容,size是读取文件指定的字节数,未给定则读取所有\n",
    "file.readline([size]) #读取文件的一行内容(包括\\n),size是读取文件指定的字节数,未给定则读取所有\n",
    "file.readlines([size]) #读取文件的所有行内容(包括\\n\n",
    "file.write(str) #向文件写入内容\n",
    "file.writelines(sequence) #向文件写入一个序列字符串列表,如果要换行需要自己写入\\n\n",
    "```"
   ]
  },
  {
   "cell_type": "code",
   "execution_count": 22,
   "metadata": {},
   "outputs": [
    {
     "name": "stdout",
     "output_type": "stream",
     "text": [
      "hello world\n",
      "\n",
      "testhello everyone! \n",
      "\n",
      "hello everyone! \n",
      "\n",
      "hello everyone! \n",
      "\n"
     ]
    },
    {
     "name": "stderr",
     "output_type": "stream",
     "text": [
      "<>:1: SyntaxWarning: invalid escape sequence '\\p'\n",
      "<>:7: SyntaxWarning: invalid escape sequence '\\p'\n",
      "<>:1: SyntaxWarning: invalid escape sequence '\\p'\n",
      "<>:7: SyntaxWarning: invalid escape sequence '\\p'\n",
      "C:\\Users\\ABCD\\AppData\\Local\\Temp\\ipykernel_35516\\3815406367.py:1: SyntaxWarning: invalid escape sequence '\\p'\n",
      "  file_example=open(\"C:\\python vscode\\mathematicalModeling\\example.txt\",mode=\"r\")#打开文件,r表示只读\n",
      "C:\\Users\\ABCD\\AppData\\Local\\Temp\\ipykernel_35516\\3815406367.py:7: SyntaxWarning: invalid escape sequence '\\p'\n",
      "  with open(\"C:\\python vscode\\mathematicalModeling\\example.txt\",mode=\"a\",encoding=\"utf-8\") as file_example:#打开文件,a表示追加r表示只读\n"
     ]
    }
   ],
   "source": [
    "file_example=open(\"C:\\python vscode\\mathematicalModeling\\example.txt\",mode=\"r\")#打开文件,r表示只读\n",
    "content=file_example.readlines()\n",
    "for line in content:\n",
    "    print(line)\n",
    "file_example.close()#关闭文件\n",
    "\n",
    "with open(\"C:\\python vscode\\mathematicalModeling\\example.txt\",mode=\"a\",encoding=\"utf-8\") as file_example:#打开文件,a表示追加r表示只读\n",
    "    file_example.write(\"hello everyone! \\n\")#写入hello everyone! \\n"
   ]
  },
  {
   "cell_type": "markdown",
   "metadata": {},
   "source": []
  }
 ],
 "metadata": {
  "kernelspec": {
   "display_name": "Python 3",
   "language": "python",
   "name": "python3"
  },
  "language_info": {
   "codemirror_mode": {
    "name": "ipython",
    "version": 3
   },
   "file_extension": ".py",
   "mimetype": "text/x-python",
   "name": "python",
   "nbconvert_exporter": "python",
   "pygments_lexer": "ipython3",
   "version": "3.13.1"
  }
 },
 "nbformat": 4,
 "nbformat_minor": 2
}
